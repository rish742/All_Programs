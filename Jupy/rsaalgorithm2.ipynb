{
 "cells": [
  {
   "cell_type": "code",
   "execution_count": 7,
   "metadata": {},
   "outputs": [],
   "source": [
    "import string\n",
    "def power(x1, y1, p1) : \n",
    "    res = 1    \n",
    "    x1 = x1 % p1 \n",
    "    if (x1 == 0) : \n",
    "        return 0\n",
    "    while (y1 > 0) : \n",
    "        if ((y1 & 1) == 1) : \n",
    "            res = (res * x1) % p1 \n",
    "        y1 = y1 >> 1      # y = y/2 \n",
    "        x1 = (x1 * x1) % p1\n",
    "    return int(res)\n",
    "def strtoint(message):\n",
    "    kk=[int(ord(message[i])) for i in range(0,len(message))]\n",
    "    return kk\n",
    "def inttostr(message):\n",
    "    kk=[chr(message[i]) for i in range(0,len(message))]\n",
    "    return \"\".join(kk)\n",
    "def enscript(message):\n",
    "    kk=[]\n",
    "    for i in range(0,len(message)):\n",
    "        kk.append(power(message[i],e,n))\n",
    "    return kk\n",
    "def decript(message):\n",
    "    kk=[]\n",
    "    for i in range(0,len(message)):\n",
    "        kk.append(power(message[i],d,n))\n",
    "    return kk"
   ]
  },
  {
   "cell_type": "code",
   "execution_count": null,
   "metadata": {},
   "outputs": [],
   "source": []
  },
  {
   "cell_type": "code",
   "execution_count": 8,
   "metadata": {},
   "outputs": [],
   "source": [
    "\n",
    "\n",
    "p=13#p=61\n",
    "q=17#q=53\n",
    "n=p*q\n",
    "e=35#e=17\n",
    "d=11#d=413"
   ]
  },
  {
   "cell_type": "code",
   "execution_count": 10,
   "metadata": {},
   "outputs": [
    {
     "name": "stdout",
     "output_type": "stream",
     "text": [
      "32\n"
     ]
    }
   ],
   "source": [
    "k=' '\n",
    "print(ord(k))\n",
    "\n"
   ]
  },
  {
   "cell_type": "code",
   "execution_count": 11,
   "metadata": {},
   "outputs": [
    {
     "name": "stdout",
     "output_type": "stream",
     "text": [
      " mypassword:94496535356\n",
      "[32, 109, 121, 112, 97, 115, 115, 119, 111, 114, 100, 58, 57, 52, 52, 57, 54, 53, 51, 53, 51, 53, 54]\n",
      " mypassword:94496535356\n"
     ]
    }
   ],
   "source": [
    "example=\" mypassword:94496535356\"\n",
    "print(example)\n",
    "msgint=strtoint(example)#convert string data into equivalent unicode number\n",
    "print(msgint)\n",
    "back=inttostr(msgint)#convert unicode  numberinto string \n",
    "print(back)"
   ]
  },
  {
   "cell_type": "code",
   "execution_count": 14,
   "metadata": {},
   "outputs": [
    {
     "name": "stdout",
     "output_type": "stream",
     "text": [
      "dsu123dfjkjkls\n",
      "[100, 115, 117, 49, 50, 51, 100, 102, 106, 107, 106, 107, 108, 115]\n",
      "[94, 123, 26, 43, 84, 51, 94, 136, 98, 74, 98, 74, 114, 123]\n",
      "^{\u001a+T3^bJbJr{\n"
     ]
    }
   ],
   "source": [
    "#encription sender\n",
    "msg=\"dsu123dfjkjkls\"\n",
    "print(msg)\n",
    "msg=strtoint(msg)\n",
    "print(msg)\n",
    "CT=enscript(msg)#msg^e mod(N)\n",
    "print(CT)\n",
    "CT=inttostr(CT)\n",
    "print(CT)"
   ]
  },
  {
   "cell_type": "code",
   "execution_count": null,
   "metadata": {},
   "outputs": [],
   "source": []
  },
  {
   "cell_type": "code",
   "execution_count": 15,
   "metadata": {},
   "outputs": [
    {
     "name": "stdout",
     "output_type": "stream",
     "text": [
      "^{\u001a+T3^bJbJr{\n",
      "[94, 123, 26, 43, 84, 51, 94, 136, 98, 74, 98, 74, 114, 123]\n",
      "[100, 115, 117, 49, 50, 51, 100, 102, 106, 107, 106, 107, 108, 115]\n",
      "dsu123dfjkjkls\n"
     ]
    }
   ],
   "source": [
    "print(CT)\n",
    "MT=strtoint(CT)\n",
    "print(MT)\n",
    "MT=decript(MT)\n",
    "print(MT)\n",
    "MT=inttostr(MT)\n",
    "print(MT)"
   ]
  },
  {
   "cell_type": "code",
   "execution_count": null,
   "metadata": {},
   "outputs": [],
   "source": []
  },
  {
   "cell_type": "code",
   "execution_count": null,
   "metadata": {},
   "outputs": [],
   "source": []
  }
 ],
 "metadata": {
  "kernelspec": {
   "display_name": "Python 3",
   "language": "python",
   "name": "python3"
  },
  "language_info": {
   "codemirror_mode": {
    "name": "ipython",
    "version": 3
   },
   "file_extension": ".py",
   "mimetype": "text/x-python",
   "name": "python",
   "nbconvert_exporter": "python",
   "pygments_lexer": "ipython3",
   "version": "3.7.0"
  }
 },
 "nbformat": 4,
 "nbformat_minor": 4
}
